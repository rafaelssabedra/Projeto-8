{
 "cells": [
  {
   "cell_type": "markdown",
   "id": "bdd2fccf-77b0-4584-9350-e5a33d148d8a",
   "metadata": {},
   "source": [
    "# Módulo Principal\n",
    "\n",
    "Este módulo prevê a função principal que integra as fases de entrada, processamento e saída de dados do aplicativo de análise de dados via API.\n",
    "\n"
   ]
  },
  {
   "cell_type": "code",
   "execution_count": 41,
   "id": "c3fe0a5c-b5cb-4b2a-9bab-f15a9433c997",
   "metadata": {
    "tags": []
   },
   "outputs": [],
   "source": [
    "# Importando módulos\n",
    "\n",
    "import test_es\n",
    "import test_proc\n",
    "\n",
    "import pandas as pd"
   ]
  },
  {
   "cell_type": "markdown",
   "id": "62d4f86e-783f-48ec-95a6-64afd2cee2b9",
   "metadata": {},
   "source": [
    "## Testes de integração de funções "
   ]
  },
  {
   "cell_type": "code",
   "execution_count": 2,
   "id": "22f541bf-4fd8-438d-b01a-4713fa753b46",
   "metadata": {
    "tags": []
   },
   "outputs": [],
   "source": [
    "# Entrada de dados\n",
    "url = \"https://dados.tce.rs.gov.br/dados/municipal/balancete-despesa/2023.csv\"\n",
    "\n",
    "leitor = test_es.leitor_dados(url)"
   ]
  },
  {
   "cell_type": "code",
   "execution_count": 4,
   "id": "4b52a1ac-e12e-4e9d-9ddf-b2f9843e190d",
   "metadata": {
    "tags": []
   },
   "outputs": [
    {
     "data": {
      "text/html": [
       "<div>\n",
       "<style scoped>\n",
       "    .dataframe tbody tr th:only-of-type {\n",
       "        vertical-align: middle;\n",
       "    }\n",
       "\n",
       "    .dataframe tbody tr th {\n",
       "        vertical-align: top;\n",
       "    }\n",
       "\n",
       "    .dataframe thead th {\n",
       "        text-align: right;\n",
       "    }\n",
       "</style>\n",
       "<table border=\"1\" class=\"dataframe\">\n",
       "  <thead>\n",
       "    <tr style=\"text-align: right;\">\n",
       "      <th></th>\n",
       "      <th>ANO</th>\n",
       "      <th>MES</th>\n",
       "      <th>COD_MUNICIPIO</th>\n",
       "      <th>NOME_MUNICIPIO</th>\n",
       "      <th>CD_ORGAO</th>\n",
       "      <th>NOME_ORGAO</th>\n",
       "      <th>CD_RECEBIMENTO</th>\n",
       "      <th>CD_ORGAO_ORCAMENTARIO</th>\n",
       "      <th>NOME_ORGAO_ORCAMENTARIO</th>\n",
       "      <th>CD_UNIDADE_ORCAMENTARIA</th>\n",
       "      <th>...</th>\n",
       "      <th>VL_REDUCAO_RECURSO</th>\n",
       "      <th>VL_TRANSFERENCIA</th>\n",
       "      <th>VL_TRANSPOSICAO</th>\n",
       "      <th>VL_REMANEJAMENTO</th>\n",
       "      <th>VL_EMPENHADO</th>\n",
       "      <th>VL_LIQUIDADO</th>\n",
       "      <th>VL_PAGO</th>\n",
       "      <th>VL_LIMITADO</th>\n",
       "      <th>VL_RECOMPOSICAO</th>\n",
       "      <th>VL_PREVISAO_EXECUCAO</th>\n",
       "    </tr>\n",
       "  </thead>\n",
       "  <tbody>\n",
       "    <tr>\n",
       "      <th>0</th>\n",
       "      <td>2023</td>\n",
       "      <td>1</td>\n",
       "      <td>149</td>\n",
       "      <td>PORTO ALEGRE</td>\n",
       "      <td>88399</td>\n",
       "      <td>AGESAN - AGÊNCIA REGULADORA INTERMUNICIPAL DE ...</td>\n",
       "      <td>306703</td>\n",
       "      <td>1</td>\n",
       "      <td>AGESAN-RS</td>\n",
       "      <td>1</td>\n",
       "      <td>...</td>\n",
       "      <td>0.0</td>\n",
       "      <td>0.0</td>\n",
       "      <td>0.0</td>\n",
       "      <td>0.0</td>\n",
       "      <td>1291047.08</td>\n",
       "      <td>99401.81</td>\n",
       "      <td>99401.81</td>\n",
       "      <td>0.0</td>\n",
       "      <td>0.0</td>\n",
       "      <td>0.0</td>\n",
       "    </tr>\n",
       "    <tr>\n",
       "      <th>1</th>\n",
       "      <td>2023</td>\n",
       "      <td>1</td>\n",
       "      <td>149</td>\n",
       "      <td>PORTO ALEGRE</td>\n",
       "      <td>88399</td>\n",
       "      <td>AGESAN - AGÊNCIA REGULADORA INTERMUNICIPAL DE ...</td>\n",
       "      <td>306703</td>\n",
       "      <td>1</td>\n",
       "      <td>AGESAN-RS</td>\n",
       "      <td>1</td>\n",
       "      <td>...</td>\n",
       "      <td>0.0</td>\n",
       "      <td>0.0</td>\n",
       "      <td>0.0</td>\n",
       "      <td>0.0</td>\n",
       "      <td>251900.00</td>\n",
       "      <td>30456.87</td>\n",
       "      <td>0.00</td>\n",
       "      <td>0.0</td>\n",
       "      <td>0.0</td>\n",
       "      <td>0.0</td>\n",
       "    </tr>\n",
       "    <tr>\n",
       "      <th>2</th>\n",
       "      <td>2023</td>\n",
       "      <td>1</td>\n",
       "      <td>149</td>\n",
       "      <td>PORTO ALEGRE</td>\n",
       "      <td>88399</td>\n",
       "      <td>AGESAN - AGÊNCIA REGULADORA INTERMUNICIPAL DE ...</td>\n",
       "      <td>306703</td>\n",
       "      <td>1</td>\n",
       "      <td>AGESAN-RS</td>\n",
       "      <td>1</td>\n",
       "      <td>...</td>\n",
       "      <td>0.0</td>\n",
       "      <td>0.0</td>\n",
       "      <td>0.0</td>\n",
       "      <td>0.0</td>\n",
       "      <td>0.00</td>\n",
       "      <td>0.00</td>\n",
       "      <td>0.00</td>\n",
       "      <td>0.0</td>\n",
       "      <td>0.0</td>\n",
       "      <td>0.0</td>\n",
       "    </tr>\n",
       "    <tr>\n",
       "      <th>3</th>\n",
       "      <td>2023</td>\n",
       "      <td>1</td>\n",
       "      <td>149</td>\n",
       "      <td>PORTO ALEGRE</td>\n",
       "      <td>88399</td>\n",
       "      <td>AGESAN - AGÊNCIA REGULADORA INTERMUNICIPAL DE ...</td>\n",
       "      <td>306703</td>\n",
       "      <td>1</td>\n",
       "      <td>AGESAN-RS</td>\n",
       "      <td>1</td>\n",
       "      <td>...</td>\n",
       "      <td>0.0</td>\n",
       "      <td>0.0</td>\n",
       "      <td>0.0</td>\n",
       "      <td>0.0</td>\n",
       "      <td>6206.47</td>\n",
       "      <td>6206.47</td>\n",
       "      <td>6206.47</td>\n",
       "      <td>0.0</td>\n",
       "      <td>0.0</td>\n",
       "      <td>0.0</td>\n",
       "    </tr>\n",
       "  </tbody>\n",
       "</table>\n",
       "<p>4 rows × 41 columns</p>\n",
       "</div>"
      ],
      "text/plain": [
       "    ANO  MES  COD_MUNICIPIO NOME_MUNICIPIO  CD_ORGAO  \\\n",
       "0  2023    1            149   PORTO ALEGRE     88399   \n",
       "1  2023    1            149   PORTO ALEGRE     88399   \n",
       "2  2023    1            149   PORTO ALEGRE     88399   \n",
       "3  2023    1            149   PORTO ALEGRE     88399   \n",
       "\n",
       "                                          NOME_ORGAO  CD_RECEBIMENTO  \\\n",
       "0  AGESAN - AGÊNCIA REGULADORA INTERMUNICIPAL DE ...          306703   \n",
       "1  AGESAN - AGÊNCIA REGULADORA INTERMUNICIPAL DE ...          306703   \n",
       "2  AGESAN - AGÊNCIA REGULADORA INTERMUNICIPAL DE ...          306703   \n",
       "3  AGESAN - AGÊNCIA REGULADORA INTERMUNICIPAL DE ...          306703   \n",
       "\n",
       "   CD_ORGAO_ORCAMENTARIO NOME_ORGAO_ORCAMENTARIO  CD_UNIDADE_ORCAMENTARIA  \\\n",
       "0                      1               AGESAN-RS                        1   \n",
       "1                      1               AGESAN-RS                        1   \n",
       "2                      1               AGESAN-RS                        1   \n",
       "3                      1               AGESAN-RS                        1   \n",
       "\n",
       "   ... VL_REDUCAO_RECURSO VL_TRANSFERENCIA  VL_TRANSPOSICAO VL_REMANEJAMENTO  \\\n",
       "0  ...                0.0              0.0              0.0              0.0   \n",
       "1  ...                0.0              0.0              0.0              0.0   \n",
       "2  ...                0.0              0.0              0.0              0.0   \n",
       "3  ...                0.0              0.0              0.0              0.0   \n",
       "\n",
       "   VL_EMPENHADO VL_LIQUIDADO   VL_PAGO VL_LIMITADO  VL_RECOMPOSICAO  \\\n",
       "0    1291047.08     99401.81  99401.81         0.0              0.0   \n",
       "1     251900.00     30456.87      0.00         0.0              0.0   \n",
       "2          0.00         0.00      0.00         0.0              0.0   \n",
       "3       6206.47      6206.47   6206.47         0.0              0.0   \n",
       "\n",
       "  VL_PREVISAO_EXECUCAO  \n",
       "0                  0.0  \n",
       "1                  0.0  \n",
       "2                  0.0  \n",
       "3                  0.0  \n",
       "\n",
       "[4 rows x 41 columns]"
      ]
     },
     "execution_count": 4,
     "metadata": {},
     "output_type": "execute_result"
    }
   ],
   "source": [
    "# Teste de armazenamento\n",
    "\n",
    "leitor.head(4)"
   ]
  },
  {
   "cell_type": "code",
   "execution_count": 42,
   "id": "28ed2d32-b984-4e97-925d-c81e429a3ef2",
   "metadata": {
    "tags": []
   },
   "outputs": [
    {
     "name": "stdin",
     "output_type": "stream",
     "text": [
      "\n",
      "Qual variável do Balancete de Despesas Orçamentárias dos municípios do RS em 2023 você deseja analisar:\n",
      "1 - Valor de Dotação Inicial\n",
      "2 - Valor de Créditos Suplementares\n",
      "3 - Valor de Créditos Especiais\n",
      "4 - Valor de Créditos Extraordinários\n",
      "5 - Valor de Redução de Dotação\n",
      "6 - Valor de Transferência\n",
      "7 - Valor de Transposição\n",
      "8 - Valor de Remanejamento\n",
      "9 - Valor Empenhado\n",
      "10 - Valor Liquidado\n",
      "11 - Valor Pago\n",
      "12 - Valor Limitado\n",
      "13 - Valor de Recomposição\n",
      "14 - Valor de Previsão de Execução\n",
      "Digite o código da variável: \n",
      " 11\n"
     ]
    }
   ],
   "source": [
    "# Teste de entrada da variável\n",
    "\n",
    "variavel = test_es.variavel()\n"
   ]
  },
  {
   "cell_type": "code",
   "execution_count": 43,
   "id": "2fe25d77-fc3f-4c99-92b4-85b7192f0af6",
   "metadata": {
    "tags": []
   },
   "outputs": [
    {
     "name": "stdout",
     "output_type": "stream",
     "text": [
      "11\n"
     ]
    }
   ],
   "source": [
    "# Teste de armazenamento\n",
    "\n",
    "print(variavel)"
   ]
  },
  {
   "cell_type": "code",
   "execution_count": 44,
   "id": "030a1d08-db81-4a84-bd0d-d08305274216",
   "metadata": {
    "tags": []
   },
   "outputs": [],
   "source": [
    "# Testando integração com proc\n",
    "\n",
    "dados = test_proc.coleta_dados(leitor, variavel)"
   ]
  },
  {
   "cell_type": "code",
   "execution_count": 45,
   "id": "03e954ac-067a-4c38-98cd-58a6fa9863dd",
   "metadata": {
    "tags": []
   },
   "outputs": [
    {
     "data": {
      "text/plain": [
       "412488348.15"
      ]
     },
     "execution_count": 45,
     "metadata": {},
     "output_type": "execute_result"
    }
   ],
   "source": [
    "# Testando armazenamento\n",
    "\n",
    "dados.max()"
   ]
  },
  {
   "cell_type": "code",
   "execution_count": 46,
   "id": "45fcaabb-7bd7-419b-9cba-fa1aa24e73b2",
   "metadata": {
    "tags": []
   },
   "outputs": [
    {
     "name": "stdout",
     "output_type": "stream",
     "text": [
      "[116808.96500568252, 1806531.7948019917]\n"
     ]
    }
   ],
   "source": [
    "# Testando integração para cálculo de média e desvio-padrão \n",
    "\n",
    "resultados = test_proc.media_desv(dados)\n",
    "\n",
    "# Teste de armazenamento\n",
    "\n",
    "print(resultados)"
   ]
  },
  {
   "cell_type": "code",
   "execution_count": 47,
   "id": "c3f40393-3d02-41c3-887a-6e71dff16b95",
   "metadata": {
    "tags": []
   },
   "outputs": [
    {
     "name": "stdout",
     "output_type": "stream",
     "text": [
      "A média dos dados é 116808.96500568252 e o desvio padrão é 1806531.7948019917\n"
     ]
    }
   ],
   "source": [
    "# Testando integração com a função de saída\n",
    "\n",
    "test_es.impressora(resultados)"
   ]
  },
  {
   "cell_type": "code",
   "execution_count": 48,
   "id": "02f2dc17-dce2-404f-9dfe-14a73431ef83",
   "metadata": {
    "tags": []
   },
   "outputs": [
    {
     "name": "stdout",
     "output_type": "stream",
     "text": [
      "O gráfico dos dados é: \n"
     ]
    },
    {
     "data": {
      "image/png": "[encoded data removed]",
      "text/plain": [
       "<Figure size 640x480 with 1 Axes>"
      ]
     },
     "metadata": {},
     "output_type": "display_data"
    }
   ],
   "source": [
    "# Testando integração com a função de saída\n",
    "\n",
    "test_es.plotador(dados)"
   ]
  },
  {
   "cell_type": "markdown",
   "id": "166a6f83-a580-436a-ad5d-c8035a1e12a0",
   "metadata": {},
   "source": [
    "## Definindo Main()"
   ]
  },
  {
   "cell_type": "code",
   "execution_count": null,
   "id": "abb67b98-5050-4706-9a95-fb8b3e9b29ad",
   "metadata": {},
   "outputs": [],
   "source": [
    "# Definindo a função main()\n",
    "\n",
    "def main():\n",
    "    \"\"\" Esta é a função que integra as fases de entrada, processamento e saída de dados do Aplicativo de análise de dados via API \"\"\"\n",
    "    url = \"https://dados.tce.rs.gov.br/dados/municipal/balancete-despesa/2023.csv\"\n",
    "    print('Lendo dados da URL: https://dados.tce.rs.gov.br/dados/municipal/balancete-despesa/2023.csv')\n",
    "    leitor = test_es.leitor_dados(url)\n",
    "\n",
    "    variavel = test_es.variavel()\n",
    "    \n",
    "    dados = test_proc.coleta_dados(leitor, variavel)\n",
    "\n",
    "    resultados = test_proc.media_desv(dados)\n",
    "\n",
    "    test_es.impressora(resultados)\n",
    "\n",
    "    test_es.plotador(dados)"
   ]
  },
  {
   "cell_type": "code",
   "execution_count": null,
   "id": "98fae001-b351-4c71-9714-1ab4dcf8df88",
   "metadata": {},
   "outputs": [],
   "source": [
    "# Teste da função main\n",
    "\n",
    "main()"
   ]
  }
 ],
 "metadata": {
  "kernelspec": {
   "display_name": "Python 3 (ipykernel)",
   "language": "python",
   "name": "python3"
  },
  "language_info": {
   "codemirror_mode": {
    "name": "ipython",
    "version": 3
   },
   "file_extension": ".py",
   "mimetype": "text/x-python",
   "name": "python",
   "nbconvert_exporter": "python",
   "pygments_lexer": "ipython3",
   "version": "3.11.5"
  }
 },
 "nbformat": 4,
 "nbformat_minor": 5
}
